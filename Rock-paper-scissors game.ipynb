{
 "cells": [
  {
   "cell_type": "code",
   "execution_count": 2,
   "id": "79edf711-d231-4bb9-ad16-835dbf24729c",
   "metadata": {},
   "outputs": [
    {
     "name": "stdout",
     "output_type": "stream",
     "text": [
      "Welcome to Rock-Paper-Scissors Game!\n",
      "\n",
      "Choose rock, paper, or scissors:\n"
     ]
    },
    {
     "name": "stdin",
     "output_type": "stream",
     "text": [
      "Your choice:  rock\n"
     ]
    },
    {
     "name": "stdout",
     "output_type": "stream",
     "text": [
      " You chose: rock\n",
      " Computer chose: paper\n",
      " You lose this round.\n",
      "\n",
      " Score => You: 0 | Computer: 1\n"
     ]
    },
    {
     "name": "stdin",
     "output_type": "stream",
     "text": [
      " Do you want to play again? (yes/no):  yes\n"
     ]
    },
    {
     "name": "stdout",
     "output_type": "stream",
     "text": [
      "\n",
      "Choose rock, paper, or scissors:\n"
     ]
    },
    {
     "name": "stdin",
     "output_type": "stream",
     "text": [
      "Your choice:  paper\n"
     ]
    },
    {
     "name": "stdout",
     "output_type": "stream",
     "text": [
      " You chose: paper\n",
      " Computer chose: paper\n",
      " It's a tie!\n",
      "\n",
      " Score => You: 0 | Computer: 1\n"
     ]
    },
    {
     "name": "stdin",
     "output_type": "stream",
     "text": [
      " Do you want to play again? (yes/no):  yes\n"
     ]
    },
    {
     "name": "stdout",
     "output_type": "stream",
     "text": [
      "\n",
      "Choose rock, paper, or scissors:\n"
     ]
    },
    {
     "name": "stdin",
     "output_type": "stream",
     "text": [
      "Your choice:  scissors\n"
     ]
    },
    {
     "name": "stdout",
     "output_type": "stream",
     "text": [
      " You chose: scissors\n",
      " Computer chose: paper\n",
      " You win this round!\n",
      "\n",
      " Score => You: 1 | Computer: 1\n"
     ]
    },
    {
     "name": "stdin",
     "output_type": "stream",
     "text": [
      " Do you want to play again? (yes/no):  no\n"
     ]
    },
    {
     "name": "stdout",
     "output_type": "stream",
     "text": [
      "\n",
      " Thanks for playing! Final Score:\n",
      " You: 1 |  Computer: 1\n"
     ]
    }
   ],
   "source": [
    "import random\n",
    "def get_computer_choice():\n",
    "    return random.choice([\"rock\", \"paper\", \"scissors\"])\n",
    "def get_winner(user, computer):\n",
    "    if user == computer:\n",
    "        return \"tie\"\n",
    "    elif (user == \"rock\" and computer == \"scissors\") or \\\n",
    "         (user == \"scissors\" and computer == \"paper\") or \\\n",
    "         (user == \"paper\" and computer == \"rock\"):\n",
    "        return \"user\"\n",
    "    else:\n",
    "        return \"computer\"\n",
    "def play():\n",
    "    print(\"Welcome to Rock-Paper-Scissors Game!\")\n",
    "    user_score = 0\n",
    "    computer_score = 0\n",
    "\n",
    "    while True:\n",
    "        print(\"\\nChoose rock, paper, or scissors:\")\n",
    "        user_choice = input(\"Your choice: \").strip().lower()\n",
    "        if user_choice not in [\"rock\", \"paper\", \"scissors\"]:\n",
    "            print(\" Invalid choice. Please choose rock, paper, or scissors.\")\n",
    "            continue\n",
    "\n",
    "        computer_choice = get_computer_choice()\n",
    "        print(f\" You chose: {user_choice}\")\n",
    "        print(f\" Computer chose: {computer_choice}\")\n",
    "\n",
    "        result = get_winner(user_choice, computer_choice)\n",
    "        if result == \"tie\":\n",
    "            print(\" It's a tie!\")\n",
    "        elif result == \"user\":\n",
    "            print(\" You win this round!\")\n",
    "            user_score += 1\n",
    "        else:\n",
    "            print(\" You lose this round.\")\n",
    "            computer_score += 1\n",
    "\n",
    "        print(f\"\\n Score => You: {user_score} | Computer: {computer_score}\")\n",
    "        \n",
    "        play_again = input(\" Do you want to play again? (yes/no): \").strip().lower()\n",
    "        if play_again not in ['yes', 'y']:\n",
    "            print(\"\\n Thanks for playing! Final Score:\")\n",
    "            print(f\" You: {user_score} |  Computer: {computer_score}\")\n",
    "            break\n",
    "\n",
    "play()\n"
   ]
  },
  {
   "cell_type": "code",
   "execution_count": null,
   "id": "ba12e229-18af-4224-9668-418c8a41f5ea",
   "metadata": {},
   "outputs": [],
   "source": []
  }
 ],
 "metadata": {
  "kernelspec": {
   "display_name": "Python 3 (ipykernel)",
   "language": "python",
   "name": "python3"
  },
  "language_info": {
   "codemirror_mode": {
    "name": "ipython",
    "version": 3
   },
   "file_extension": ".py",
   "mimetype": "text/x-python",
   "name": "python",
   "nbconvert_exporter": "python",
   "pygments_lexer": "ipython3",
   "version": "3.13.5"
  }
 },
 "nbformat": 4,
 "nbformat_minor": 5
}
